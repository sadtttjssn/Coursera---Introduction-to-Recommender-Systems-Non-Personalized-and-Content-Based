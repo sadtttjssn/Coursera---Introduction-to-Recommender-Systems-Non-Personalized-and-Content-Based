{
 "cells": [
  {
   "cell_type": "markdown",
   "metadata": {},
   "source": [
    "# Assignment 1"
   ]
  },
  {
   "cell_type": "code",
   "execution_count": 1,
   "metadata": {},
   "outputs": [],
   "source": [
    "import os\n",
    "import numpy as np\n",
    "import pandas as pd"
   ]
  },
  {
   "cell_type": "code",
   "execution_count": 2,
   "metadata": {},
   "outputs": [],
   "source": [
    "os.chdir(\"C:\\\\recommender_system\\\\course1\\\\week2\")"
   ]
  },
  {
   "cell_type": "code",
   "execution_count": 3,
   "metadata": {},
   "outputs": [],
   "source": [
    "mydata = pd.read_csv(\"HW1-data.csv\")"
   ]
  },
  {
   "cell_type": "code",
   "execution_count": 4,
   "metadata": {},
   "outputs": [
    {
     "data": {
      "text/plain": [
       "(20, 22)"
      ]
     },
     "execution_count": 4,
     "metadata": {},
     "output_type": "execute_result"
    }
   ],
   "source": [
    "mydata.shape"
   ]
  },
  {
   "cell_type": "code",
   "execution_count": 5,
   "metadata": {},
   "outputs": [
    {
     "data": {
      "text/html": [
       "<div>\n",
       "<style scoped>\n",
       "    .dataframe tbody tr th:only-of-type {\n",
       "        vertical-align: middle;\n",
       "    }\n",
       "\n",
       "    .dataframe tbody tr th {\n",
       "        vertical-align: top;\n",
       "    }\n",
       "\n",
       "    .dataframe thead th {\n",
       "        text-align: right;\n",
       "    }\n",
       "</style>\n",
       "<table border=\"1\" class=\"dataframe\">\n",
       "  <thead>\n",
       "    <tr style=\"text-align: right;\">\n",
       "      <th></th>\n",
       "      <th>User</th>\n",
       "      <th>Gender (1 =F, 0=M)</th>\n",
       "      <th>260: Star Wars: Episode IV - A New Hope (1977)</th>\n",
       "      <th>1210: Star Wars: Episode VI - Return of the Jedi (1983)</th>\n",
       "      <th>356: Forrest Gump (1994)</th>\n",
       "      <th>318: Shawshank Redemption, The (1994)</th>\n",
       "      <th>593: Silence of the Lambs, The (1991)</th>\n",
       "      <th>3578: Gladiator (2000)</th>\n",
       "      <th>1: Toy Story (1995)</th>\n",
       "      <th>2028: Saving Private Ryan (1998)</th>\n",
       "      <th>...</th>\n",
       "      <th>2396: Shakespeare in Love (1998)</th>\n",
       "      <th>2916: Total Recall (1990)</th>\n",
       "      <th>780: Independence Day (ID4) (1996)</th>\n",
       "      <th>541: Blade Runner (1982)</th>\n",
       "      <th>1265: Groundhog Day (1993)</th>\n",
       "      <th>2571: Matrix, The (1999)</th>\n",
       "      <th>527: Schindler's List (1993)</th>\n",
       "      <th>2762: Sixth Sense, The (1999)</th>\n",
       "      <th>1198: Raiders of the Lost Ark (1981)</th>\n",
       "      <th>34: Babe (1995)</th>\n",
       "    </tr>\n",
       "  </thead>\n",
       "  <tbody>\n",
       "    <tr>\n",
       "      <th>0</th>\n",
       "      <td>755</td>\n",
       "      <td>0</td>\n",
       "      <td>1.0</td>\n",
       "      <td>5.0</td>\n",
       "      <td>2.0</td>\n",
       "      <td>NaN</td>\n",
       "      <td>4.0</td>\n",
       "      <td>4.0</td>\n",
       "      <td>2.0</td>\n",
       "      <td>2.0</td>\n",
       "      <td>...</td>\n",
       "      <td>2.0</td>\n",
       "      <td>NaN</td>\n",
       "      <td>5.0</td>\n",
       "      <td>2.0</td>\n",
       "      <td>NaN</td>\n",
       "      <td>4.0</td>\n",
       "      <td>2.0</td>\n",
       "      <td>5.0</td>\n",
       "      <td>NaN</td>\n",
       "      <td>NaN</td>\n",
       "    </tr>\n",
       "    <tr>\n",
       "      <th>1</th>\n",
       "      <td>5277</td>\n",
       "      <td>0</td>\n",
       "      <td>5.0</td>\n",
       "      <td>3.0</td>\n",
       "      <td>NaN</td>\n",
       "      <td>2.0</td>\n",
       "      <td>4.0</td>\n",
       "      <td>2.0</td>\n",
       "      <td>1.0</td>\n",
       "      <td>NaN</td>\n",
       "      <td>...</td>\n",
       "      <td>3.0</td>\n",
       "      <td>2.0</td>\n",
       "      <td>2.0</td>\n",
       "      <td>NaN</td>\n",
       "      <td>2.0</td>\n",
       "      <td>NaN</td>\n",
       "      <td>5.0</td>\n",
       "      <td>1.0</td>\n",
       "      <td>3.0</td>\n",
       "      <td>NaN</td>\n",
       "    </tr>\n",
       "    <tr>\n",
       "      <th>2</th>\n",
       "      <td>1577</td>\n",
       "      <td>1</td>\n",
       "      <td>NaN</td>\n",
       "      <td>NaN</td>\n",
       "      <td>NaN</td>\n",
       "      <td>5.0</td>\n",
       "      <td>2.0</td>\n",
       "      <td>NaN</td>\n",
       "      <td>4.0</td>\n",
       "      <td>NaN</td>\n",
       "      <td>...</td>\n",
       "      <td>NaN</td>\n",
       "      <td>1.0</td>\n",
       "      <td>4.0</td>\n",
       "      <td>4.0</td>\n",
       "      <td>1.0</td>\n",
       "      <td>1.0</td>\n",
       "      <td>2.0</td>\n",
       "      <td>3.0</td>\n",
       "      <td>1.0</td>\n",
       "      <td>3.0</td>\n",
       "    </tr>\n",
       "    <tr>\n",
       "      <th>3</th>\n",
       "      <td>4388</td>\n",
       "      <td>0</td>\n",
       "      <td>NaN</td>\n",
       "      <td>3.0</td>\n",
       "      <td>NaN</td>\n",
       "      <td>NaN</td>\n",
       "      <td>NaN</td>\n",
       "      <td>1.0</td>\n",
       "      <td>2.0</td>\n",
       "      <td>3.0</td>\n",
       "      <td>...</td>\n",
       "      <td>NaN</td>\n",
       "      <td>4.0</td>\n",
       "      <td>1.0</td>\n",
       "      <td>3.0</td>\n",
       "      <td>5.0</td>\n",
       "      <td>NaN</td>\n",
       "      <td>5.0</td>\n",
       "      <td>1.0</td>\n",
       "      <td>1.0</td>\n",
       "      <td>2.0</td>\n",
       "    </tr>\n",
       "    <tr>\n",
       "      <th>4</th>\n",
       "      <td>1202</td>\n",
       "      <td>1</td>\n",
       "      <td>4.0</td>\n",
       "      <td>3.0</td>\n",
       "      <td>4.0</td>\n",
       "      <td>1.0</td>\n",
       "      <td>4.0</td>\n",
       "      <td>1.0</td>\n",
       "      <td>NaN</td>\n",
       "      <td>4.0</td>\n",
       "      <td>...</td>\n",
       "      <td>5.0</td>\n",
       "      <td>1.0</td>\n",
       "      <td>NaN</td>\n",
       "      <td>4.0</td>\n",
       "      <td>NaN</td>\n",
       "      <td>3.0</td>\n",
       "      <td>5.0</td>\n",
       "      <td>5.0</td>\n",
       "      <td>NaN</td>\n",
       "      <td>NaN</td>\n",
       "    </tr>\n",
       "  </tbody>\n",
       "</table>\n",
       "<p>5 rows × 22 columns</p>\n",
       "</div>"
      ],
      "text/plain": [
       "   User  Gender (1 =F, 0=M)  260: Star Wars: Episode IV - A New Hope (1977)  \\\n",
       "0   755                   0                                             1.0   \n",
       "1  5277                   0                                             5.0   \n",
       "2  1577                   1                                             NaN   \n",
       "3  4388                   0                                             NaN   \n",
       "4  1202                   1                                             4.0   \n",
       "\n",
       "   1210: Star Wars: Episode VI - Return of the Jedi (1983)  \\\n",
       "0                                                5.0         \n",
       "1                                                3.0         \n",
       "2                                                NaN         \n",
       "3                                                3.0         \n",
       "4                                                3.0         \n",
       "\n",
       "   356: Forrest Gump (1994)  318: Shawshank Redemption, The (1994)  \\\n",
       "0                       2.0                                    NaN   \n",
       "1                       NaN                                    2.0   \n",
       "2                       NaN                                    5.0   \n",
       "3                       NaN                                    NaN   \n",
       "4                       4.0                                    1.0   \n",
       "\n",
       "   593: Silence of the Lambs, The (1991)  3578: Gladiator (2000)  \\\n",
       "0                                    4.0                     4.0   \n",
       "1                                    4.0                     2.0   \n",
       "2                                    2.0                     NaN   \n",
       "3                                    NaN                     1.0   \n",
       "4                                    4.0                     1.0   \n",
       "\n",
       "   1: Toy Story (1995)  2028: Saving Private Ryan (1998)  ...  \\\n",
       "0                  2.0                               2.0  ...   \n",
       "1                  1.0                               NaN  ...   \n",
       "2                  4.0                               NaN  ...   \n",
       "3                  2.0                               3.0  ...   \n",
       "4                  NaN                               4.0  ...   \n",
       "\n",
       "   2396: Shakespeare in Love (1998)  2916: Total Recall (1990)  \\\n",
       "0                               2.0                        NaN   \n",
       "1                               3.0                        2.0   \n",
       "2                               NaN                        1.0   \n",
       "3                               NaN                        4.0   \n",
       "4                               5.0                        1.0   \n",
       "\n",
       "   780: Independence Day (ID4) (1996)  541: Blade Runner (1982)  \\\n",
       "0                                 5.0                       2.0   \n",
       "1                                 2.0                       NaN   \n",
       "2                                 4.0                       4.0   \n",
       "3                                 1.0                       3.0   \n",
       "4                                 NaN                       4.0   \n",
       "\n",
       "   1265: Groundhog Day (1993)  2571: Matrix, The (1999)  \\\n",
       "0                         NaN                       4.0   \n",
       "1                         2.0                       NaN   \n",
       "2                         1.0                       1.0   \n",
       "3                         5.0                       NaN   \n",
       "4                         NaN                       3.0   \n",
       "\n",
       "   527: Schindler's List (1993)  2762: Sixth Sense, The (1999)  \\\n",
       "0                           2.0                            5.0   \n",
       "1                           5.0                            1.0   \n",
       "2                           2.0                            3.0   \n",
       "3                           5.0                            1.0   \n",
       "4                           5.0                            5.0   \n",
       "\n",
       "   1198: Raiders of the Lost Ark (1981)  34: Babe (1995)  \n",
       "0                                   NaN              NaN  \n",
       "1                                   3.0              NaN  \n",
       "2                                   1.0              3.0  \n",
       "3                                   1.0              2.0  \n",
       "4                                   NaN              NaN  \n",
       "\n",
       "[5 rows x 22 columns]"
      ]
     },
     "execution_count": 5,
     "metadata": {},
     "output_type": "execute_result"
    }
   ],
   "source": [
    "mydata.head()"
   ]
  },
  {
   "cell_type": "code",
   "execution_count": 6,
   "metadata": {},
   "outputs": [],
   "source": [
    "# Create a subset data excluding User and Gender columns\n",
    "mydata_movie = mydata.drop(columns = ['User', 'Gender (1 =F, 0=M)'])"
   ]
  },
  {
   "cell_type": "markdown",
   "metadata": {},
   "source": [
    "**Question 1** - Mean Rating: Calculate the mean rating for each movie, order with the highest rating listed first, and submit the top three (along with the mean scores for the top two)."
   ]
  },
  {
   "cell_type": "code",
   "execution_count": 7,
   "metadata": {},
   "outputs": [
    {
     "data": {
      "text/plain": [
       "318: Shawshank Redemption, The (1994)             3.600000\n",
       "260: Star Wars: Episode IV - A New Hope (1977)    3.266667\n",
       "541: Blade Runner (1982)                          3.222222\n",
       "dtype: float64"
      ]
     },
     "execution_count": 7,
     "metadata": {},
     "output_type": "execute_result"
    }
   ],
   "source": [
    "mydata_movie.mean().sort_values(ascending = False)[0:3]"
   ]
  },
  {
   "cell_type": "markdown",
   "metadata": {},
   "source": [
    "**Question 2** - Rating Count (popularity): Count the number of ratings for each movie, order with the most number of ratings first, and submit the top three (along with the counts for the top two). "
   ]
  },
  {
   "cell_type": "code",
   "execution_count": 8,
   "metadata": {},
   "outputs": [
    {
     "data": {
      "text/plain": [
       "1: Toy Story (1995)                               17\n",
       "593: Silence of the Lambs, The (1991)             16\n",
       "260: Star Wars: Episode IV - A New Hope (1977)    15\n",
       "dtype: int64"
      ]
     },
     "execution_count": 8,
     "metadata": {},
     "output_type": "execute_result"
    }
   ],
   "source": [
    "mydata_movie.count().sort_values(ascending = False)[0:3]"
   ]
  },
  {
   "cell_type": "markdown",
   "metadata": {},
   "source": [
    "**Question 3** - % of ratings 4+ (liking): Calculate the percentage of ratings for each movie that are 4 or higher. Order with the highest percentage first, and submit the top three (along with the percentage for the top two).  Notice that the three different measures of \"best\" reflect different priorities and give different results; this should help you see why you need to be thoughtful about what metrics you use. "
   ]
  },
  {
   "cell_type": "code",
   "execution_count": 9,
   "metadata": {},
   "outputs": [
    {
     "data": {
      "text/plain": [
       "318: Shawshank Redemption, The (1994)             0.700000\n",
       "260: Star Wars: Episode IV - A New Hope (1977)    0.533333\n",
       "3578: Gladiator (2000)                            0.500000\n",
       "dtype: float64"
      ]
     },
     "execution_count": 9,
     "metadata": {},
     "output_type": "execute_result"
    }
   ],
   "source": [
    "(mydata_movie[mydata_movie >= 4.0].count()/mydata_movie.count()).sort_values(ascending = False)[0:3]"
   ]
  },
  {
   "cell_type": "markdown",
   "metadata": {},
   "source": [
    "**Question 4** - Top movies for someone who has seen Toy Story: Calculate movies that most often occur with Movie #1:  Toy Story, using the (x+y)/x method described in class. In other words, for each movie, calculate the percentage of Toy Story raters who also rated that movie. Order with the highest percentage first, and submit the top 3 (along with the correlations for the top two).  Note, you will have ties -- to break the ties, use the lowest-numbered movie as the higher-ranked one.  In other words, if Movies 541 and 318 are tied, then 318 gets the higher rank."
   ]
  },
  {
   "cell_type": "code",
   "execution_count": 10,
   "metadata": {
    "scrolled": false
   },
   "outputs": [
    {
     "data": {
      "text/plain": [
       "260: Star Wars: Episode IV - A New Hope (1977)             0.823529\n",
       "1210: Star Wars: Episode VI - Return of the Jedi (1983)    0.764706\n",
       "593: Silence of the Lambs, The (1991)                      0.764706\n",
       "780: Independence Day (ID4) (1996)                         0.764706\n",
       "dtype: float64"
      ]
     },
     "execution_count": 10,
     "metadata": {},
     "output_type": "execute_result"
    }
   ],
   "source": [
    "# Delete the 1st row since it is Toy Story\n",
    "# Movie 593 ranks 2nd and Movie 1210 ranks 3rd as described in the questions\n",
    "(mydata_movie[mydata_movie['1: Toy Story (1995)'].notnull()].count()/mydata_movie[mydata_movie['1: Toy Story (1995)'].notnull()].shape[0]).sort_values(ascending = False)[1:5]"
   ]
  },
  {
   "cell_type": "markdown",
   "metadata": {},
   "source": [
    "**Question 5** - Correlation with Toy Story:  Calculate the correlation between the vectors of ratings for Toy Story and each other movie.  You can use the built-in CORREL() function.  Order by the highest correlation (positive only) and submit the top 3 along with the correlation values for the top 2.  Notice the differences between co-occurrence and correlation; these metrics are showing different types of relationships."
   ]
  },
  {
   "cell_type": "code",
   "execution_count": 11,
   "metadata": {},
   "outputs": [
    {
     "data": {
      "text/plain": [
       "318: Shawshank Redemption, The (1994)    0.888523\n",
       "34: Babe (1995)                          0.811107\n",
       "296: Pulp Fiction (1994)                 0.709842\n",
       "Name: 1: Toy Story (1995), dtype: float64"
      ]
     },
     "execution_count": 11,
     "metadata": {},
     "output_type": "execute_result"
    }
   ],
   "source": [
    "# Delete the 1st row since it is Toy Story\n",
    "mydata_movie.corr()['1: Toy Story (1995)'].sort_values(ascending = False)[1:4]"
   ]
  },
  {
   "cell_type": "markdown",
   "metadata": {},
   "source": [
    "**Question 6** - Mean rating difference by gender:  First, recompute the mean rating for each movie separately for males and for females.  And calculate the overall mean rating (across all ratings) for males and females. Submit the two movies that have the greatest differences (one where men are most above women, and one where women are most above men) along with the differences in average.  Also submit the difference in overall rating averages (female average - male average)."
   ]
  },
  {
   "cell_type": "code",
   "execution_count": 12,
   "metadata": {},
   "outputs": [
    {
     "data": {
      "text/plain": [
       "1198: Raiders of the Lost Ark (1981)   -1.666667\n",
       "Name: 1, dtype: float64"
      ]
     },
     "execution_count": 12,
     "metadata": {},
     "output_type": "execute_result"
    }
   ],
   "source": [
    "# Top movie that men are most above women\n",
    "mydata.drop(columns = ['User']).groupby(['Gender (1 =F, 0=M)']).mean().diff().iloc[1,:].sort_values(ascending = False)[-1:]"
   ]
  },
  {
   "cell_type": "code",
   "execution_count": 13,
   "metadata": {},
   "outputs": [
    {
     "data": {
      "text/plain": [
       "2396: Shakespeare in Love (1998)    2.107143\n",
       "Name: 1, dtype: float64"
      ]
     },
     "execution_count": 13,
     "metadata": {},
     "output_type": "execute_result"
    }
   ],
   "source": [
    "# Top movie that women are most above men\n",
    "mydata.drop(columns = ['User']).groupby(['Gender (1 =F, 0=M)']).mean().diff().iloc[1,:].sort_values(ascending = False)[:1]"
   ]
  },
  {
   "cell_type": "code",
   "execution_count": 30,
   "metadata": {},
   "outputs": [
    {
     "data": {
      "text/plain": [
       "0.0418566100290092"
      ]
     },
     "execution_count": 30,
     "metadata": {},
     "output_type": "execute_result"
    }
   ],
   "source": [
    "# Difference = women avg score - men avg score\n",
    "(mydata.drop(columns = ['User']).groupby(['Gender (1 =F, 0=M)']).sum().sum(axis=1)/mydata.drop(columns = ['User']).groupby(['Gender (1 =F, 0=M)']).count().sum(axis=1)).diff()[1]"
   ]
  },
  {
   "cell_type": "markdown",
   "metadata": {},
   "source": [
    "**Question 7** - Next, compute the % of ratings 4+ separately for males and females.  You'll be asked to submit two movies as above (largest difference in each direction). And again you'll indicate whether men or women are more likely to rate movies 4 stars or above."
   ]
  },
  {
   "cell_type": "code",
   "execution_count": 14,
   "metadata": {},
   "outputs": [],
   "source": [
    "mydata_men = mydata[mydata['Gender (1 =F, 0=M)'] == 0].drop(columns = ['User', 'Gender (1 =F, 0=M)'])\n",
    "mydata_women = mydata[mydata['Gender (1 =F, 0=M)'] == 1].drop(columns = ['User', 'Gender (1 =F, 0=M)'])"
   ]
  },
  {
   "cell_type": "code",
   "execution_count": 15,
   "metadata": {},
   "outputs": [
    {
     "data": {
      "text/plain": [
       "1198: Raiders of the Lost Ark (1981)    0.5\n",
       "dtype: float64"
      ]
     },
     "execution_count": 15,
     "metadata": {},
     "output_type": "execute_result"
    }
   ],
   "source": [
    "# Top movie that men are most above women\n",
    "((mydata_men[mydata_men >= 4.0].count()/mydata_men.count()) - (mydata_women[mydata_women >= 4.0].count()/mydata_women.count())).sort_values(ascending = False)[:1]"
   ]
  },
  {
   "cell_type": "code",
   "execution_count": 16,
   "metadata": {},
   "outputs": [
    {
     "data": {
      "text/plain": [
       "2396: Shakespeare in Love (1998)   -0.75\n",
       "dtype: float64"
      ]
     },
     "execution_count": 16,
     "metadata": {},
     "output_type": "execute_result"
    }
   ],
   "source": [
    "# Top movie that women are most above men\n",
    "((mydata_men[mydata_men >= 4.0].count()/mydata_men.count()) - (mydata_women[mydata_women >= 4.0].count()/mydata_women.count())).sort_values(ascending = False)[-1:]"
   ]
  },
  {
   "cell_type": "code",
   "execution_count": 37,
   "metadata": {},
   "outputs": [
    {
     "data": {
      "text/plain": [
       "0.082469954413593"
      ]
     },
     "execution_count": 37,
     "metadata": {},
     "output_type": "execute_result"
    }
   ],
   "source": [
    "# Difference = women 4+ % - men 4+ %\n",
    "mydata_women[mydata_women >= 4.0].count().sum()/mydata_women.count().sum() - mydata_men[mydata_men >= 4.0].count().sum()/mydata_men.count().sum()"
   ]
  }
 ],
 "metadata": {
  "kernelspec": {
   "display_name": "Python 3",
   "language": "python",
   "name": "python3"
  },
  "language_info": {
   "codemirror_mode": {
    "name": "ipython",
    "version": 3
   },
   "file_extension": ".py",
   "mimetype": "text/x-python",
   "name": "python",
   "nbconvert_exporter": "python",
   "pygments_lexer": "ipython3",
   "version": "3.7.6"
  }
 },
 "nbformat": 4,
 "nbformat_minor": 4
}
